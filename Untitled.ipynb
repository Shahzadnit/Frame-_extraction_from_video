{
 "cells": [
  {
   "cell_type": "code",
   "execution_count": 53,
   "metadata": {},
   "outputs": [],
   "source": [
    "# Program To Read video \n",
    "# and Extract Frames \n",
    "import cv2 \n",
    "  \n",
    "# Function to extract frames \n",
    "def FrameCapture(path): \n",
    "      \n",
    "    # Path to video file \n",
    "    cap = cv2.VideoCapture(path) \n",
    "  \n",
    "    # Used as counter variable \n",
    "    count = 0\n",
    "    count1 = 0\n",
    "  \n",
    "    # checks whether frames were extracted \n",
    "    success = 1\n",
    "    ret=1\n",
    "  \n",
    "    while ret:\n",
    "        # vidObj object calls read \n",
    "        # function extract frames \n",
    "        #success, image = vidObj.read()\n",
    "        cap.set(cv2.CAP_PROP_POS_MSEC,count*10000)      # Go to the 1 sec. position\n",
    "        ret,frame = cap.read()\n",
    "        # Saves the frames with frame-count \n",
    "        if ret:\n",
    "            cv2.imwrite(\"D:\\\\Frame_extraction\\\\Under_water_Aus\\\\22\\\\frame%d.jpg\" % count, frame)\n",
    "            \n",
    "        \n",
    "        count += 1\n",
    "  \n",
    "# Driver Code \n",
    "if __name__ == '__main__': \n",
    "  \n",
    "    # Calling the function \n",
    "    FrameCapture(\"D:\\\\Frame_extraction\\\\Under_water_Aus\\\\22.mp4\") "
   ]
  },
  {
   "cell_type": "code",
   "execution_count": 24,
   "metadata": {},
   "outputs": [],
   "source": [
    "def FrameCapture1(path,i): \n",
    "      \n",
    "    # Path to video file \n",
    "    cap = cv2.VideoCapture(path,i) \n",
    "  \n",
    "    # Used as counter variable \n",
    "    count = 0\n",
    "    count1 = 0\n",
    "  \n",
    "    # checks whether frames were extracted \n",
    "    success = 1\n",
    "    ret=1\n",
    "  \n",
    "    while ret:\n",
    "        # vidObj object calls read \n",
    "        # function extract frames \n",
    "        #success, image = vidObj.read()\n",
    "        cap.set(cv2.CAP_PROP_POS_MSEC,count*1000)      # Go to the 1 sec. position\n",
    "        ret,frame = cap.read()\n",
    "        # Saves the frames with frame-count \n",
    "        if ret:\n",
    "            cv2.imwrite(\"D:\\\\Frame_extraction\\\\Under_water_Aus\\\\%d\\\\frame%d.jpg\" %(i,count), frame)\n",
    "        count += 1\n"
   ]
  },
  {
   "cell_type": "code",
   "execution_count": 22,
   "metadata": {},
   "outputs": [],
   "source": [
    "c=1;        \n",
    "for j in range(22):\n",
    "    path=(\"D:\\\\Frame_extraction\\\\Under_water_Aus\\\\%d.mp4\" %c)\n",
    "    FrameCapture1(\"D:\\\\Frame_extraction\\\\Under_water_Aus\\\\%d.mp4\",c)\n",
    "    c=c+1;"
   ]
  },
  {
   "cell_type": "code",
   "execution_count": 24,
   "metadata": {},
   "outputs": [
    {
     "ename": "AttributeError",
     "evalue": "'NoneType' object has no attribute 'shape'",
     "output_type": "error",
     "traceback": [
      "\u001b[1;31m---------------------------------------------------------------------------\u001b[0m",
      "\u001b[1;31mAttributeError\u001b[0m                            Traceback (most recent call last)",
      "\u001b[1;32m<ipython-input-24-ca28604ed399>\u001b[0m in \u001b[0;36m<module>\u001b[1;34m\u001b[0m\n\u001b[0;32m     40\u001b[0m \u001b[1;33m\u001b[0m\u001b[0m\n\u001b[0;32m     41\u001b[0m     \u001b[1;31m# Calling the function\u001b[0m\u001b[1;33m\u001b[0m\u001b[1;33m\u001b[0m\u001b[0m\n\u001b[1;32m---> 42\u001b[1;33m     \u001b[0mFrameCapture\u001b[0m\u001b[1;33m(\u001b[0m\u001b[1;34m\"D:\\\\Frame_extraction\\\\aus1.flv\"\u001b[0m\u001b[1;33m)\u001b[0m\u001b[1;33m\u001b[0m\u001b[0m\n\u001b[0m",
      "\u001b[1;32m<ipython-input-24-ca28604ed399>\u001b[0m in \u001b[0;36mFrameCapture\u001b[1;34m(path)\u001b[0m\n\u001b[0;32m     28\u001b[0m         \u001b[1;32mif\u001b[0m \u001b[0mret\u001b[0m\u001b[1;33m:\u001b[0m\u001b[1;33m\u001b[0m\u001b[0m\n\u001b[0;32m     29\u001b[0m             \u001b[0mret\u001b[0m\u001b[1;33m,\u001b[0m\u001b[0mframe\u001b[0m \u001b[1;33m=\u001b[0m \u001b[0mcap\u001b[0m\u001b[1;33m.\u001b[0m\u001b[0mread\u001b[0m\u001b[1;33m(\u001b[0m\u001b[1;33m)\u001b[0m\u001b[1;33m\u001b[0m\u001b[0m\n\u001b[1;32m---> 30\u001b[1;33m             \u001b[0mr\u001b[0m\u001b[1;33m,\u001b[0m\u001b[0mc\u001b[0m\u001b[1;33m,\u001b[0m\u001b[0mch\u001b[0m \u001b[1;33m=\u001b[0m\u001b[0mframe\u001b[0m\u001b[1;33m.\u001b[0m\u001b[0mshape\u001b[0m\u001b[1;33m\u001b[0m\u001b[0m\n\u001b[0m\u001b[0;32m     31\u001b[0m             \u001b[0mc1\u001b[0m\u001b[1;33m=\u001b[0m\u001b[0mnp\u001b[0m\u001b[1;33m.\u001b[0m\u001b[0mint\u001b[0m\u001b[1;33m(\u001b[0m\u001b[0mc\u001b[0m\u001b[1;33m/\u001b[0m\u001b[1;36m2\u001b[0m\u001b[1;33m)\u001b[0m\u001b[1;33m\u001b[0m\u001b[0m\n\u001b[0;32m     32\u001b[0m             \u001b[0mcv2\u001b[0m\u001b[1;33m.\u001b[0m\u001b[0mimwrite\u001b[0m\u001b[1;33m(\u001b[0m\u001b[1;34m\"D:\\\\Frame_extraction\\\\aus\\\\left1\\\\frame%d.jpg\"\u001b[0m \u001b[1;33m%\u001b[0m \u001b[0mcount\u001b[0m\u001b[1;33m,\u001b[0m \u001b[0mframe\u001b[0m\u001b[1;33m[\u001b[0m\u001b[1;33m:\u001b[0m\u001b[1;33m,\u001b[0m\u001b[1;36m0\u001b[0m\u001b[1;33m:\u001b[0m\u001b[0mc1\u001b[0m\u001b[1;33m,\u001b[0m\u001b[1;33m:\u001b[0m\u001b[1;33m]\u001b[0m\u001b[1;33m)\u001b[0m\u001b[1;33m\u001b[0m\u001b[0m\n",
      "\u001b[1;31mAttributeError\u001b[0m: 'NoneType' object has no attribute 'shape'"
     ]
    }
   ],
   "source": [
    "# Program To Read video \n",
    "# and Extract Frames \n",
    "import cv2 \n",
    "import numpy as np\n",
    "  \n",
    "# Function to extract frames \n",
    "def FrameCapture(path): \n",
    "      \n",
    "    # Path to video file \n",
    "    cap = cv2.VideoCapture(path) \n",
    "  \n",
    "    # Used as counter variable \n",
    "    count = 0\n",
    "    count1 = 0\n",
    "  \n",
    "    # checks whether frames were extracted \n",
    "    success = 1\n",
    "    ret=1\n",
    "  \n",
    "    while ret:\n",
    "        # vidObj object calls read \n",
    "        # function extract frames \n",
    "        #success, image = vidObj.read()\n",
    "        cap.set(cv2.CAP_PROP_POS_MSEC,count*5)      # Go to the 1 sec. position\n",
    "        \n",
    "        #print(frame.shape)\n",
    "        # Saves the frames with frame-count \n",
    "        if ret:\n",
    "            ret,frame = cap.read()\n",
    "            r,c,ch =frame.shape\n",
    "            c1=np.int(c/2)\n",
    "            cv2.imwrite(\"D:\\\\Frame_extraction\\\\aus\\\\left1\\\\frame%d.jpg\" % count, frame[:,0:c1,:])\n",
    "            cv2.imwrite(\"D:\\\\Frame_extraction\\\\aus\\\\right1\\\\frame%d.jpg\" % count, frame[:,c1:c,:])\n",
    "            \n",
    "        \n",
    "        count += 1\n",
    "  \n",
    "# Driver Code \n",
    "if __name__ == '__main__': \n",
    "  \n",
    "    # Calling the function \n",
    "    FrameCapture(\"D:\\\\Frame_extraction\\\\aus1.flv\") "
   ]
  },
  {
   "cell_type": "code",
   "execution_count": 15,
   "metadata": {},
   "outputs": [],
   "source": [
    "import cv2\n",
    "\n",
    "vidcap = cv2.VideoCapture('videoplayback.webm')\n",
    "count = 0\n",
    "success = True\n",
    "fps = int(vidcap.get(cv2.CAP_PROP_FPS))\n",
    "\n",
    "while success:\n",
    "    success,image = vidcap.read()\n",
    "#     print('read a new frame:',success)\n",
    "    if count%(10*fps) == 0 :\n",
    "        cv2.imwrite('D:\\\\Frame_extraction\\\\images_t\\\\frame%d.jpg'%count,image)\n",
    "#         print('successfully written 10th frame')\n",
    "    count+=1"
   ]
  },
  {
   "cell_type": "code",
   "execution_count": 1,
   "metadata": {},
   "outputs": [],
   "source": [
    "\n",
    "# Program To Read video \n",
    "# and Extract Frames \n",
    "import cv2 \n",
    "  \n",
    "# Function to extract frames \n",
    "def FrameCapture(path): \n",
    "      \n",
    "    # Path to video file \n",
    "    vidObj = cv2.VideoCapture(path) \n",
    "  \n",
    "    # Used as counter variable \n",
    "    count = 0\n",
    "    cc=0\n",
    "  \n",
    "    # checks whether frames were extracted \n",
    "    success = 1\n",
    "  \n",
    "    while success: \n",
    "  \n",
    "        # vidObj object calls read \n",
    "        # function extract frames \n",
    "        success, image = vidObj.read()\n",
    "        if count % 1000==0:\n",
    "            cv2.imwrite(\"D:\\\\Frame_extraction\\\\images_t\\\\frame%d.jpg\" % cc, image)\n",
    "            cc +=1\n",
    "  \n",
    "        # Saves the frames with frame-count \n",
    "        #cv2.imwrite(\"D:\\\\Frame_extraction\\\\images_t\\\\frame%d.jpg\" % count, image) \n",
    "  \n",
    "        count += 1\n",
    "  \n",
    "# Driver Code \n",
    "if __name__ == '__main__': \n",
    "  \n",
    "    # Calling the function \n",
    "    FrameCapture(\"videoplayback.webm\") \n"
   ]
  },
  {
   "cell_type": "code",
   "execution_count": 10,
   "metadata": {},
   "outputs": [
    {
     "name": "stdout",
     "output_type": "stream",
     "text": [
      "1079235\n"
     ]
    }
   ],
   "source": [
    "import cv2\n",
    "\n",
    "cap = cv2.VideoCapture(\"videoplayback.webm\")\n",
    "length = int(cap.get(cv2.CAP_PROP_FRAME_COUNT))\n",
    "print( length)"
   ]
  },
  {
   "cell_type": "code",
   "execution_count": 13,
   "metadata": {},
   "outputs": [
    {
     "name": "stdout",
     "output_type": "stream",
     "text": [
      "Frames per second using video.get(cv2.CAP_PROP_FPS) : 29.97002997002997\n"
     ]
    }
   ],
   "source": [
    "import cv2\n",
    "if __name__ == '__main__' :\n",
    " \n",
    "    video = cv2.VideoCapture(\"videoplayback.webm\");\n",
    "     \n",
    "    # Find OpenCV version\n",
    "    (major_ver, minor_ver, subminor_ver) = (cv2.__version__).split('.')\n",
    "     \n",
    "    if int(major_ver)  < 3 :\n",
    "        fps = video.get(cv2.cv.CV_CAP_PROP_FPS)\n",
    "        print (\"Frames per second using video.get(cv2.cv.CV_CAP_PROP_FPS): {0}\".format(fps))\n",
    "    else :\n",
    "        fps = video.get(cv2.CAP_PROP_FPS)\n",
    "        print(\"Frames per second using video.get(cv2.CAP_PROP_FPS) : {0}\".format(fps))\n",
    "     \n"
   ]
  },
  {
   "cell_type": "code",
   "execution_count": null,
   "metadata": {},
   "outputs": [],
   "source": []
  }
 ],
 "metadata": {
  "kernelspec": {
   "display_name": "Python 3",
   "language": "python",
   "name": "python3"
  },
  "language_info": {
   "codemirror_mode": {
    "name": "ipython",
    "version": 3
   },
   "file_extension": ".py",
   "mimetype": "text/x-python",
   "name": "python",
   "nbconvert_exporter": "python",
   "pygments_lexer": "ipython3",
   "version": "3.6.6"
  }
 },
 "nbformat": 4,
 "nbformat_minor": 2
}
